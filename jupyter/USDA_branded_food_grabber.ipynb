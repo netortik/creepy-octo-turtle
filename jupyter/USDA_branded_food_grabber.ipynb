{
 "cells": [
  {
   "cell_type": "code",
   "execution_count": 7,
   "metadata": {
    "collapsed": false
   },
   "outputs": [],
   "source": [
    "# list import\n",
    "list_path = 'api.nal.usda.gov/ndb/list'\n",
    "api_key = '{HIDDEN}'\n",
    "fmt = 'json'\n",
    "items_max = 143\n",
    "headers = {'Content-Type': 'application/{fmt}'.format(fmt=fmt)}"
   ]
  },
  {
   "cell_type": "code",
   "execution_count": 4,
   "metadata": {
    "collapsed": true
   },
   "outputs": [],
   "source": [
    "params = {\n",
    "    'lt': 'f',\n",
    "    'sort': 'n',\n",
    "    'max': items_max,\n",
    "    'format': fmt,\n",
    "    'offset': 259000,\n",
    "    'api_key': api_key\n",
    "}\n",
    "req = requests.get('http://{list_path}'.format(list_path=list_path), headers=headers, params=params)\n",
    "req.raise_for_status()\n"
   ]
  },
  {
   "cell_type": "code",
   "execution_count": 36,
   "metadata": {
    "collapsed": false
   },
   "outputs": [
    {
     "data": {
      "text/plain": [
       "<Response [200]>"
      ]
     },
     "execution_count": 36,
     "metadata": {},
     "output_type": "execute_result"
    }
   ],
   "source": [
    "req.json()\n",
    "req"
   ]
  },
  {
   "cell_type": "code",
   "execution_count": 8,
   "metadata": {
    "collapsed": false
   },
   "outputs": [
    {
     "name": "stdout",
     "output_type": "stream",
     "text": [
      "143\n",
      "failed\n"
     ]
    }
   ],
   "source": [
    "import time\n",
    "import requests\n",
    "\n",
    "offset = 0\n",
    "offset_shift = 500\n",
    "failed = []\n",
    "success = set()\n",
    "\n",
    "with open('ids.data', 'a') as fname:\n",
    "    while True:\n",
    "        params = {\n",
    "            'lt': 'f',\n",
    "            'sort': 'n',\n",
    "            'max': items_max,\n",
    "            'format': fmt,\n",
    "            'offset': {offset},\n",
    "            'api_key': api_key\n",
    "        }\n",
    "        try:\n",
    "            req = requests.get('http://{list_path}'.format(list_path=list_path), headers=headers, params=params)\n",
    "            req.raise_for_status()\n",
    "            if len(req.json()['list']['item']) < offset_shift:\n",
    "                raise Exception('Chunk len mismatch')\n",
    "            if req.json()['list']['start'] != offset:\n",
    "                print 'finished at %s' % offset\n",
    "                break\n",
    "            offset = offset + items_max\n",
    "            time.sleep(1.1)\n",
    "        except:\n",
    "            print 'failed'\n",
    "            failed.append(offset)\n",
    "            break\n",
    "        else:\n",
    "            len_before = len(success)\n",
    "            for key in req.json()['list']['item']:\n",
    "                success.add(key['id'])\n",
    "                fname.write(key['id']+'\\n')\n",
    "            len_after = len(success)\n",
    "            if len_before == len_after:\n",
    "                print 'len does not changed'\n",
    "                break\n",
    "            print len(success)\n"
   ]
  },
  {
   "cell_type": "code",
   "execution_count": 3,
   "metadata": {
    "collapsed": false
   },
   "outputs": [
    {
     "name": "stdout",
     "output_type": "stream",
     "text": [
      "259000\n",
      "1\n"
     ]
    }
   ],
   "source": [
    "print len(success)\n",
    "print len(failed)"
   ]
  },
  {
   "cell_type": "code",
   "execution_count": null,
   "metadata": {
    "collapsed": false
   },
   "outputs": [],
   "source": [
    "offset_shift = 25\n",
    "failed = []\n",
    "ids_to_go = []\n",
    "break_ = False\n",
    "import json\n",
    "\n",
    "report_v2_path = 'api.nal.usda.gov/usda/ndb/V2/reports'\n",
    "with open('report_full.data', 'a') as w_fname:\n",
    "    with open('ids_full.data', 'r') as ids_fname:\n",
    "        while not break_:\n",
    "            ids_to_go = []\n",
    "            while len(ids_to_go) < 24:\n",
    "                id_ = ids_fname.readline()\n",
    "                ids_to_go.append(id_.strip('\\n'))\n",
    "            params = {\n",
    "                \"ndbno\":ids_to_go,\n",
    "                \"type\":\"b\",\n",
    "                'format': fmt,\n",
    "                'api_key': api_key\n",
    "            }\n",
    "            try:\n",
    "                req = requests.get('http://{report_v2_path}'.format(report_v2_path=report_v2_path), headers=headers, params=params)\n",
    "                req.raise_for_status()\n",
    "            except Exception as exc:\n",
    "                #break_ = True\n",
    "                print exc\n",
    "                failed.append(ids_to_go)\n",
    "            else:\n",
    "                for item in req.json()['foods']:\n",
    "                    w_fname.write(json.dumps(item))\n",
    "                    w_fname.write('\\n')\n",
    "            time.sleep(1.1)"
   ]
  },
  {
   "cell_type": "code",
   "execution_count": null,
   "metadata": {
    "collapsed": false
   },
   "outputs": [],
   "source": []
  },
  {
   "cell_type": "code",
   "execution_count": null,
   "metadata": {
    "collapsed": false
   },
   "outputs": [],
   "source": []
  },
  {
   "cell_type": "code",
   "execution_count": null,
   "metadata": {
    "collapsed": true
   },
   "outputs": [],
   "source": []
  }
 ],
 "metadata": {
  "kernelspec": {
   "display_name": "Python 2",
   "language": "python",
   "name": "python2"
  },
  "language_info": {
   "codemirror_mode": {
    "name": "ipython",
    "version": 2
   },
   "file_extension": ".py",
   "mimetype": "text/x-python",
   "name": "python",
   "nbconvert_exporter": "python",
   "pygments_lexer": "ipython2",
   "version": "2.7.10"
  }
 },
 "nbformat": 4,
 "nbformat_minor": 0
}
